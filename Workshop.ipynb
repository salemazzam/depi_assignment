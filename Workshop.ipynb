{
  "cells": [
    {
      "cell_type": "markdown",
      "metadata": {
        "id": "mtRtfOmazvFW"
      },
      "source": []
    },
    {
      "cell_type": "markdown",
      "metadata": {
        "id": "3evJfGmIzvFa"
      },
      "source": [
        "## 1. Strings:\n",
        "\n",
        "Question:\n",
        "\n",
        "\n",
        "Write a Python program that takes a sentence as input and counts the number of vowels (a, e, i, o, u) in the sentence.\n",
        "\n",
        "Example:"
      ]
    },
    {
      "cell_type": "code",
      "execution_count": null,
      "metadata": {
        "id": "TW4TFLhbzvFe"
      },
      "outputs": [],
      "source": [
        "# Input: \"Hello World\"\n",
        "# Output: 3"
      ]
    },
    {
      "cell_type": "code",
      "execution_count": null,
      "metadata": {
        "colab": {
          "base_uri": "https://localhost:8080/"
        },
        "id": "_qAehq9PzvFg",
        "outputId": "7ff8e75e-687d-4232-c88f-cb4c80048309"
      },
      "outputs": [
        {
          "output_type": "stream",
          "name": "stdout",
          "text": [
            "enter the sentence: my name is nour\n",
            "5\n"
          ]
        }
      ],
      "source": [
        "x = input(\"enter the sentence: \")\n",
        "count = 0\n",
        "for i in x:\n",
        "    if i.upper() in \"AEIOU\":\n",
        "        count += 1\n",
        "print(count)"
      ]
    },
    {
      "cell_type": "markdown",
      "metadata": {
        "id": "82tW8tMezvFg"
      },
      "source": [
        "## 2. Lists:\n",
        "\n",
        "\n",
        "Question:\n",
        "\n",
        "\n",
        "Given a list of numbers [1, 3, 5, 7, 9], write a Python program to double each element in the list and store the result in a new list.\n",
        "\n",
        "Example:"
      ]
    },
    {
      "cell_type": "code",
      "execution_count": null,
      "metadata": {
        "id": "w0qmmM0ZzvFh"
      },
      "outputs": [],
      "source": [
        "# Original List: [1, 3, 5, 7, 9]\n",
        "# New List: [2, 6, 10, 14, 18]"
      ]
    },
    {
      "cell_type": "code",
      "execution_count": null,
      "metadata": {
        "id": "3RTabSb6zvFh",
        "colab": {
          "base_uri": "https://localhost:8080/"
        },
        "outputId": "482c8d8b-64cc-4ee7-abce-3e79340d2506"
      },
      "outputs": [
        {
          "output_type": "stream",
          "name": "stdout",
          "text": [
            "[2, 6, 10, 14, 18]\n"
          ]
        }
      ],
      "source": [
        "list = [1, 3, 5, 7, 9]\n",
        "new_list = []\n",
        "for i in list:\n",
        "    new_list.append(i*2)\n",
        "print(new_list)"
      ]
    },
    {
      "cell_type": "markdown",
      "metadata": {
        "id": "up-xY4enzvFi"
      },
      "source": [
        "## 3. Sets:\n",
        "\n",
        "Question:\n",
        "\n",
        "\n",
        "Create two sets: set1 = {1, 2, 3, 4} and set2 = {3, 4, 5, 6}. Write a Python program to find the union and intersection of the two sets.\n",
        "\n",
        "Example:"
      ]
    },
    {
      "cell_type": "code",
      "execution_count": null,
      "metadata": {
        "id": "50vPJpnhzvFi"
      },
      "outputs": [],
      "source": [
        "# set1: {1, 2, 3, 4}\n",
        "# set2: {3, 4, 5, 6}\n",
        "# Union: {1, 2, 3, 4, 5, 6}\n",
        "# Intersection: {3, 4}"
      ]
    },
    {
      "cell_type": "code",
      "execution_count": null,
      "metadata": {
        "id": "9p_AEAiOzvFj",
        "colab": {
          "base_uri": "https://localhost:8080/"
        },
        "outputId": "ca2e4b1e-8a1d-4772-aa9a-82cbb8df03b4"
      },
      "outputs": [
        {
          "output_type": "stream",
          "name": "stdout",
          "text": [
            "Union:  {1, 2, 3, 4, 5, 6}\n",
            "Intersection:  {3, 4}\n"
          ]
        }
      ],
      "source": [
        "set1 = {1, 2, 3, 4}\n",
        "set2 = {3, 4, 5, 6}\n",
        "print(\"Union: \", set1.union(set2))\n",
        "print(\"Intersection: \", set1.intersection(set2))"
      ]
    },
    {
      "cell_type": "markdown",
      "metadata": {
        "id": "06r_KwkpzvFj"
      },
      "source": [
        "## 4. Dictionaries:\n",
        "\n",
        "Question:\n",
        "\n",
        "\n",
        "Given a dictionary {'a': 1, 'b': 2, 'c': 3}, write a Python program to swap the keys and values, so the resulting dictionary becomes {1: 'a', 2: 'b', 3: 'c'}.\n",
        "\n",
        "Example:"
      ]
    },
    {
      "cell_type": "code",
      "execution_count": null,
      "metadata": {
        "id": "kvpN3ZwIzvFj"
      },
      "outputs": [],
      "source": [
        "# Original Dictionary: {'a': 1, 'b': 2, 'c': 3}\n",
        "# Updated Dictionary: {1: 'a', 2: 'b', 3: 'c'}"
      ]
    },
    {
      "cell_type": "code",
      "execution_count": 5,
      "metadata": {
        "id": "qDbU6OMpzvFk",
        "colab": {
          "base_uri": "https://localhost:8080/"
        },
        "outputId": "51d78550-bd03-4cb9-a8b4-91d3743de651"
      },
      "outputs": [
        {
          "output_type": "stream",
          "name": "stdout",
          "text": [
            "{1: 'a', 2: 'b', 3: 'c'}\n"
          ]
        }
      ],
      "source": [
        "dict = {'a': 1, 'b': 2, 'c': 3}\n",
        "new_dict = {}\n",
        "for key, value in dict.items():\n",
        "    new_dict[value] = key\n",
        "print(new_dict)"
      ]
    },
    {
      "cell_type": "markdown",
      "metadata": {
        "id": "xY6CdhqtzvFk"
      },
      "source": [
        "## 5. Tuples:\n",
        "\n",
        "Question:\n",
        "\n",
        "Given a tuple (5, 10, 15, 20), write a Python program to convert it into a list, change the second element to 12, and then convert it back to a tuple.\n",
        "\n",
        "Example:"
      ]
    },
    {
      "cell_type": "code",
      "execution_count": null,
      "metadata": {
        "id": "P2ooye0GzvFl"
      },
      "outputs": [],
      "source": [
        "# Original Tuple: (5, 10, 15, 20)\n",
        "# Updated Tuple: (5, 12, 15, 20)"
      ]
    },
    {
      "cell_type": "code",
      "execution_count": 8,
      "metadata": {
        "id": "rHQiP4mKzvFl",
        "colab": {
          "base_uri": "https://localhost:8080/",
          "height": 211
        },
        "outputId": "73364b7d-9a22-4b06-84e9-9a748ed7ddc4"
      },
      "outputs": [
        {
          "output_type": "error",
          "ename": "TypeError",
          "evalue": "'list' object is not callable",
          "traceback": [
            "\u001b[0;31m---------------------------------------------------------------------------\u001b[0m",
            "\u001b[0;31mTypeError\u001b[0m                                 Traceback (most recent call last)",
            "\u001b[0;32m<ipython-input-8-86816337915c>\u001b[0m in \u001b[0;36m<cell line: 2>\u001b[0;34m()\u001b[0m\n\u001b[1;32m      1\u001b[0m \u001b[0mtp\u001b[0m \u001b[0;34m=\u001b[0m \u001b[0;34m(\u001b[0m\u001b[0;36m5\u001b[0m\u001b[0;34m,\u001b[0m \u001b[0;36m10\u001b[0m\u001b[0;34m,\u001b[0m \u001b[0;36m15\u001b[0m\u001b[0;34m,\u001b[0m \u001b[0;36m20\u001b[0m\u001b[0;34m)\u001b[0m\u001b[0;34m\u001b[0m\u001b[0;34m\u001b[0m\u001b[0m\n\u001b[0;32m----> 2\u001b[0;31m \u001b[0mlist1\u001b[0m \u001b[0;34m=\u001b[0m \u001b[0mlist\u001b[0m\u001b[0;34m(\u001b[0m\u001b[0mtp\u001b[0m\u001b[0;34m)\u001b[0m\u001b[0;34m\u001b[0m\u001b[0;34m\u001b[0m\u001b[0m\n\u001b[0m\u001b[1;32m      3\u001b[0m \u001b[0mlist1\u001b[0m\u001b[0;34m[\u001b[0m\u001b[0;36m1\u001b[0m\u001b[0;34m]\u001b[0m \u001b[0;34m=\u001b[0m \u001b[0;36m12\u001b[0m\u001b[0;34m\u001b[0m\u001b[0;34m\u001b[0m\u001b[0m\n\u001b[1;32m      4\u001b[0m \u001b[0mtp\u001b[0m \u001b[0;34m=\u001b[0m \u001b[0mtuple\u001b[0m\u001b[0;34m(\u001b[0m\u001b[0mlist1\u001b[0m\u001b[0;34m)\u001b[0m\u001b[0;34m\u001b[0m\u001b[0;34m\u001b[0m\u001b[0m\n\u001b[1;32m      5\u001b[0m \u001b[0mprint\u001b[0m\u001b[0;34m(\u001b[0m\u001b[0mtp\u001b[0m\u001b[0;34m)\u001b[0m\u001b[0;34m\u001b[0m\u001b[0;34m\u001b[0m\u001b[0m\n",
            "\u001b[0;31mTypeError\u001b[0m: 'list' object is not callable"
          ]
        }
      ],
      "source": [
        "tp = (5, 10, 15, 20)\n",
        "list1 = list(tp)\n",
        "list1[1] = 12\n",
        "tp = tuple(list1)\n",
        "print(tp)"
      ]
    },
    {
      "cell_type": "markdown",
      "metadata": {
        "id": "VWhr4EkWzvFl"
      },
      "source": [
        "## 6. Functions:\n",
        "\n",
        "Question:\n",
        "\n",
        "Write a Python function named is_palindrome that takes a string as input and returns True if the string is a palindrome (reads the same forwards and backwards), and False otherwise.\n",
        "\n",
        "Example:"
      ]
    },
    {
      "cell_type": "code",
      "execution_count": null,
      "metadata": {
        "id": "T4KsVCS2zvFl"
      },
      "outputs": [],
      "source": [
        "# Input: \"radar\"\n",
        "# Output: True\n",
        "\n",
        "# Input: \"hello\"\n",
        "# Output: False"
      ]
    },
    {
      "cell_type": "code",
      "execution_count": 9,
      "metadata": {
        "id": "YGgt1x33zvFm",
        "colab": {
          "base_uri": "https://localhost:8080/"
        },
        "outputId": "d05e0d2c-5119-4046-a0cd-7e318309342e"
      },
      "outputs": [
        {
          "output_type": "stream",
          "name": "stdout",
          "text": [
            "enter the string: noon\n",
            "True\n"
          ]
        }
      ],
      "source": [
        "x = input(\"enter the string: \")\n",
        "if x == x[::-1]:\n",
        "    print(\"True\")\n",
        "else:\n",
        "    print(\"False\")"
      ]
    },
    {
      "cell_type": "markdown",
      "metadata": {
        "id": "Zibj3xVZzvFm"
      },
      "source": [
        "## 7. Functions:\n",
        "\n",
        "Question:\n",
        "\n",
        "Write a Python function named count_occurrences that takes two arguments: a list of integers and a target integer. The function should return a dictionary where the keys are the unique integers from the list, and the values are the number of times each integer occurs in the list. Additionally, if the target integer is present in the list, the function should also include the key \"target_count\" with its value being the number of times the target integer occurs.\n"
      ]
    },
    {
      "cell_type": "code",
      "execution_count": null,
      "metadata": {
        "id": "It7DvRvxzvFm"
      },
      "outputs": [],
      "source": [
        "# Input: [1, 2, 2, 3, 4, 2, 5], target = 2\n",
        "# Output: {1: 1, 2: 3, 3: 1, 4: 1, 5: 1, 'target_count': 3}\n",
        "\n",
        "# Input: [10, 10, 20, 30], target = 25\n",
        "# Output: {10: 2, 20: 1, 30: 1}"
      ]
    },
    {
      "cell_type": "code",
      "execution_count": null,
      "metadata": {
        "id": "p46lcJJRzvFm"
      },
      "outputs": [],
      "source": [
        "def count_occurrences(lst, target):\n",
        "    count_dict = {}\n",
        "    target_count = 0\n",
        "    for num in lst:\n",
        "        if num not in count_dict:\n",
        "            count_dict[num] = 1\n",
        "        else:\n",
        "            count_dict[num] += 1\n",
        "        if num == target:\n",
        "            target_count += 1\n",
        "    if target_count > 0:\n",
        "        count_dict['target_count'] = target_count\n",
        "    return count_dict"
      ]
    },
    {
      "cell_type": "markdown",
      "metadata": {
        "id": "GkTeBYM5zvFn"
      },
      "source": [
        "## 8. while loop:\n",
        "Write a Python program that uses a while loop to generate a sequence of numbers starting from 1. The loop should continue generating numbers and adding them to a list until the sum of all numbers in the list exceeds 200. After the loop, print the list of numbers and the total sum of the numbers.\n",
        "\n",
        "Example:"
      ]
    },
    {
      "cell_type": "code",
      "execution_count": null,
      "metadata": {
        "id": "KauLqkvtzvFn"
      },
      "outputs": [],
      "source": [
        "list =[]\n",
        "sum = 0\n",
        "i = 1\n",
        "while sum <= 200:\n",
        "    list.append(i)\n",
        "    sum += i\n",
        "    i += 1\n",
        "print(list)\n",
        "print(sum)"
      ]
    },
    {
      "cell_type": "markdown",
      "metadata": {
        "id": "XCcBJEm8zvFn"
      },
      "source": [
        "## 9. Question:\n",
        "\n",
        "Write a Python function named remove_duplicates that takes a list of integers as input and returns a new list with duplicate values removed.\n",
        "\n",
        "The order of the original list should be preserved in the new list.\n",
        "\n",
        "Example:"
      ]
    },
    {
      "cell_type": "code",
      "execution_count": null,
      "metadata": {
        "id": "UUNcY2kxzvFn"
      },
      "outputs": [],
      "source": [
        "# Input: [1, 2, 2, 3, 4, 4, 5]\n",
        "# Output: [1, 2, 3, 4, 5]"
      ]
    },
    {
      "cell_type": "code",
      "execution_count": null,
      "metadata": {
        "id": "VDLIW_rmzvFn",
        "outputId": "937a38fc-1db8-426f-c7ef-1b98ef442f8a"
      },
      "outputs": [
        {
          "name": "stdout",
          "output_type": "stream",
          "text": [
            "[1, 2, 3, 4, 5]\n"
          ]
        }
      ],
      "source": [
        "# Incorrect Solution:\n",
        "def remove_duplicates(numbers):\n",
        "    unique_numbers = []\n",
        "    for num in numbers:\n",
        "        if num not in unique_numbers:\n",
        "            unique_numbers.append(num)\n",
        "    return unique_numbers\n",
        "\n",
        "# Example usage:\n",
        "print(remove_duplicates([1, 2, 2, 3, 4, 4, 5]))  # Output: [1, 2, 3, 4, 5]\n"
      ]
    },
    {
      "cell_type": "markdown",
      "metadata": {
        "id": "izuALDfYzvFo"
      },
      "source": [
        "### Explanation of the Incorrect Solution:\n",
        "\n",
        "This approach is actually correct in removing duplicates while preserving the order of the original list. The list unique_numbers is built by appending numbers that are not already in the list. It ensures that duplicates are removed while preserving the original order.\n",
        "\n",
        "\n",
        "Question:\n",
        "\n",
        "\n",
        "Is there a more efficient way to solve this problem that might improve performance, especially with larger lists? What could be a better approach?"
      ]
    },
    {
      "cell_type": "markdown",
      "metadata": {
        "id": "nXi0MBa9zvFp"
      },
      "source": [
        "### Optimized Solution:\n",
        "\n",
        "Explanation:\n",
        "\n",
        "Using a set helps in quickly checking for duplicates, as set operations are average O(1) in time complexity.\n",
        "The set is used to track seen numbers, and a list is used to maintain the order of unique elements.\n",
        "#### Optimized Code:"
      ]
    },
    {
      "cell_type": "code",
      "execution_count": 12,
      "metadata": {
        "id": "stCrPTIBzvFp",
        "colab": {
          "base_uri": "https://localhost:8080/"
        },
        "outputId": "ae4376ae-119c-4a6c-e355-6c5b43324e8b"
      },
      "outputs": [
        {
          "output_type": "stream",
          "name": "stdout",
          "text": [
            "[6, 7, 8, 9]\n"
          ]
        }
      ],
      "source": [
        "def remove_duplicates2(numbers):\n",
        "  seen = set()\n",
        "  unique_numbers = []\n",
        "  for num in numbers:\n",
        "    if num not in seen:\n",
        "      seen.add(num)\n",
        "      unique_numbers.append(num)\n",
        "  return unique_numbers\n",
        "print(remove_duplicates2([6,6,7,8,6,9]))\n"
      ]
    },
    {
      "cell_type": "markdown",
      "metadata": {
        "id": "UFbz0akNzvFp"
      },
      "source": [
        "#### Explanation of the Optimized Solution:\n",
        "1. Set Usage: A set called seen is used to keep track of numbers that have already been encountered. This ensures each number is only added to the unique_numbers list once.\n",
        "2. Order Preservation: The unique_numbers list maintains the order of the first occurrence of each unique number.\n",
        "3. Efficiency: The in operation on a set is more efficient than a list due to the set's hashing mechanism.\n",
        "\n",
        "\n",
        "This approach reduces the overall time complexity by avoiding multiple membership checks on the list, making it more suitable for larger datasets."
      ]
    },
    {
      "cell_type": "code",
      "execution_count": null,
      "metadata": {
        "id": "Z67-Tp0OzvFq"
      },
      "outputs": [],
      "source": []
    },
    {
      "cell_type": "markdown",
      "metadata": {
        "id": "OSCNygMMzvFq"
      },
      "source": [
        "## 10. Question:\n",
        "Write a Python program that takes a list of words as input and creates a dictionary where the keys are the unique words in the list, and the values are lists containing the indices (positions) at which each word appears in the list.\n",
        "\n",
        "Expected Output:\n",
        "\n",
        "If the input list is [\"apple\", \"banana\", \"orange\", \"banana\", \"kiwi\", \"apple\"], the program should return {'apple': [0], 'banana': [1], 'orange': [3], 'kiwi': [4]}.\n",
        "Please write the Python code to accomplish this task."
      ]
    },
    {
      "cell_type": "code",
      "execution_count": 13,
      "metadata": {
        "id": "C7tQN9Y8zvFq",
        "colab": {
          "base_uri": "https://localhost:8080/"
        },
        "outputId": "e2ca2910-c376-46df-fa7f-03291b59e356"
      },
      "outputs": [
        {
          "output_type": "stream",
          "name": "stdout",
          "text": [
            "{'apple': [0, 5], 'banana': [1, 3], 'orange': [2], 'kiwi': [4]}\n"
          ]
        }
      ],
      "source": [
        "list = [\"apple\", \"banana\", \"orange\", \"banana\", \"kiwi\", \"apple\"]\n",
        "dict = {}\n",
        "for i in range(len(list)):\n",
        "    if list[i] not in dict:\n",
        "        dict[list[i]] = [i]\n",
        "    else:\n",
        "        dict[list[i]].append(i)\n",
        "print(dict)"
      ]
    },
    {
      "cell_type": "code",
      "execution_count": null,
      "metadata": {
        "id": "_pky7ZOTzvFq"
      },
      "outputs": [],
      "source": []
    },
    {
      "cell_type": "code",
      "execution_count": null,
      "metadata": {
        "id": "V3XsIFxtzvFq"
      },
      "outputs": [],
      "source": []
    }
  ],
  "metadata": {
    "kernelspec": {
      "display_name": "base",
      "language": "python",
      "name": "python3"
    },
    "language_info": {
      "codemirror_mode": {
        "name": "ipython",
        "version": 3
      },
      "file_extension": ".py",
      "mimetype": "text/x-python",
      "name": "python",
      "nbconvert_exporter": "python",
      "pygments_lexer": "ipython3",
      "version": "3.11.5"
    },
    "colab": {
      "provenance": []
    }
  },
  "nbformat": 4,
  "nbformat_minor": 0
}