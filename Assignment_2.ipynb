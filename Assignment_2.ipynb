{
  "nbformat": 4,
  "nbformat_minor": 0,
  "metadata": {
    "colab": {
      "provenance": []
    },
    "kernelspec": {
      "name": "python3",
      "display_name": "Python 3"
    },
    "language_info": {
      "name": "python"
    }
  },
  "cells": [
    {
      "cell_type": "markdown",
      "source": [
        "# Lists and List Slicing"
      ],
      "metadata": {
        "id": "6D0ELU9rIuC2"
      }
    },
    {
      "cell_type": "code",
      "source": [
        "numbers =[1,2,3,8,5,10,11,12,13,4,15]\n",
        "print(numbers[0:5])\n"
      ],
      "metadata": {
        "colab": {
          "base_uri": "https://localhost:8080/"
        },
        "id": "SiyZPoAJ767t",
        "outputId": "80233b60-b071-4d99-d5b3-2256ba737133"
      },
      "execution_count": null,
      "outputs": [
        {
          "output_type": "stream",
          "name": "stdout",
          "text": [
            "[1, 2, 3, 8, 5]\n"
          ]
        }
      ]
    },
    {
      "cell_type": "code",
      "source": [
        "print(numbers[-3:])"
      ],
      "metadata": {
        "colab": {
          "base_uri": "https://localhost:8080/"
        },
        "id": "Bb02Ujb69OeE",
        "outputId": "f89f2e40-8d1d-4f82-b6aa-538b124dc093"
      },
      "execution_count": null,
      "outputs": [
        {
          "output_type": "stream",
          "name": "stdout",
          "text": [
            "[13, 4, 15]\n"
          ]
        }
      ]
    },
    {
      "cell_type": "code",
      "source": [
        "print(numbers[3:8])"
      ],
      "metadata": {
        "colab": {
          "base_uri": "https://localhost:8080/"
        },
        "id": "igsWw4QN9VzL",
        "outputId": "0863b242-375d-4e95-850d-eacae73ba615"
      },
      "execution_count": null,
      "outputs": [
        {
          "output_type": "stream",
          "name": "stdout",
          "text": [
            "[8, 5, 10, 11, 12]\n"
          ]
        }
      ]
    },
    {
      "cell_type": "code",
      "source": [
        "fruits = [\"Kiwi\", \"Peach\", \"Watermelon\", \"Blueberry\", \"Pomegranate\"]\n",
        "\n",
        "fruits.append(\"Cherry\")\n",
        "fruits.append(\"Papaya\")\n",
        "\n",
        "\n",
        "fruits.pop()\n",
        "\n",
        "print(fruits)\n"
      ],
      "metadata": {
        "colab": {
          "base_uri": "https://localhost:8080/"
        },
        "id": "XiBu37kT9ixp",
        "outputId": "c73df2a7-4b6d-4090-f11c-87eb6d935756"
      },
      "execution_count": null,
      "outputs": [
        {
          "output_type": "stream",
          "name": "stdout",
          "text": [
            "['Kiwi', 'Peach', 'Watermelon', 'Blueberry', 'Pomegranate', 'Cherry']\n"
          ]
        }
      ]
    },
    {
      "cell_type": "markdown",
      "source": [
        "# Tuples and Dictionaries"
      ],
      "metadata": {
        "id": "jNLswtKlJF1n"
      }
    },
    {
      "cell_type": "code",
      "source": [
        "cities = (\"Cairo\", \"Berlin\", \"Rome\", \"Amsterdam\", \"NewYork\")\n",
        "print(cities[1])\n"
      ],
      "metadata": {
        "colab": {
          "base_uri": "https://localhost:8080/"
        },
        "id": "L-24VRbK-9oo",
        "outputId": "aea2f01d-743d-474b-bed1-e67720550435"
      },
      "execution_count": null,
      "outputs": [
        {
          "output_type": "stream",
          "name": "stdout",
          "text": [
            "Berlin\n"
          ]
        }
      ]
    },
    {
      "cell_type": "code",
      "source": [
        "cities[1]=\"alex\" #error because tuple doesn't support element changing"
      ],
      "metadata": {
        "id": "p0uTgwtl_H3x"
      },
      "execution_count": null,
      "outputs": []
    },
    {
      "cell_type": "code",
      "source": [
        "person = {'name': 'John', 'age': 30, 'city': 'New York'}\n",
        "\n",
        "print(person['age'])\n",
        "\n",
        "person['job'] = 'farmer'\n",
        "\n",
        "person.pop('city')\n",
        "print(person)\n"
      ],
      "metadata": {
        "colab": {
          "base_uri": "https://localhost:8080/"
        },
        "id": "5W_1nv2i_gwa",
        "outputId": "24118277-c456-49ff-b5d2-07027c420d7a"
      },
      "execution_count": null,
      "outputs": [
        {
          "output_type": "stream",
          "name": "stdout",
          "text": [
            "30\n",
            "{'name': 'John', 'age': 30, 'job': 'farmer'}\n"
          ]
        }
      ]
    },
    {
      "cell_type": "code",
      "source": [
        "people = {'Nour': 25, 'Omar': 20, 'Ahmed': 19}\n",
        "\n",
        "for name, age in people.items():\n",
        "    print(f\"{name} is {age} years old.\")\n"
      ],
      "metadata": {
        "colab": {
          "base_uri": "https://localhost:8080/"
        },
        "id": "uM-ZOOuk_5eb",
        "outputId": "2bff9ac1-275c-4392-9c2a-1ecef4e77ea2"
      },
      "execution_count": null,
      "outputs": [
        {
          "output_type": "stream",
          "name": "stdout",
          "text": [
            "Nour is 25 years old.\n",
            "Omar is 20 years old.\n",
            "Ahmed is 19 years old.\n"
          ]
        }
      ]
    },
    {
      "cell_type": "markdown",
      "source": [
        "# Conditional Statements"
      ],
      "metadata": {
        "id": "Jy72YZNdAq0D"
      }
    },
    {
      "cell_type": "code",
      "source": [
        "age = int(input(\"Enter your age: \"))\n",
        "\n",
        "if age >= 18:\n",
        "    print(\"Adult\")\n",
        "else:\n",
        "    print(\"Minor\")\n"
      ],
      "metadata": {
        "colab": {
          "base_uri": "https://localhost:8080/"
        },
        "id": "1UVYUivbAYdx",
        "outputId": "22a50728-ae2b-4876-bfe1-93cb61eb9b73"
      },
      "execution_count": null,
      "outputs": [
        {
          "output_type": "stream",
          "name": "stdout",
          "text": [
            "Enter your age: 19\n",
            "Adult\n"
          ]
        }
      ]
    },
    {
      "cell_type": "code",
      "source": [
        "number = int(input(\"Enter a number: \"))\n",
        "\n",
        "if number % 2 == 0:\n",
        "    print(\"Even\")\n",
        "else:\n",
        "    print(\"Odd\")\n"
      ],
      "metadata": {
        "colab": {
          "base_uri": "https://localhost:8080/"
        },
        "id": "fmisYgscA4j8",
        "outputId": "65a2cd00-35bb-4fd0-eaae-3077d549d013"
      },
      "execution_count": null,
      "outputs": [
        {
          "output_type": "stream",
          "name": "stdout",
          "text": [
            "Enter a number: 7\n",
            "Odd\n"
          ]
        }
      ]
    },
    {
      "cell_type": "code",
      "source": [
        "score = int(input(\"Enter your score: \"))\n",
        "\n",
        "if score >= 90:\n",
        "    print(\"A\")\n",
        "elif 70 <= score <= 89:\n",
        "    print(\"B\")\n",
        "elif 50 <= score <= 69:\n",
        "    print(\"C\")\n",
        "else:\n",
        "    print(\"F\")\n"
      ],
      "metadata": {
        "colab": {
          "base_uri": "https://localhost:8080/"
        },
        "id": "Bhhp62tvBLJ1",
        "outputId": "aa1df379-7cd6-42a0-e8cd-78e8985ae624"
      },
      "execution_count": null,
      "outputs": [
        {
          "output_type": "stream",
          "name": "stdout",
          "text": [
            "Enter your score: 67\n",
            "C\n"
          ]
        }
      ]
    },
    {
      "cell_type": "markdown",
      "source": [
        "# Loops"
      ],
      "metadata": {
        "id": "xCUQz1_OBmmj"
      }
    },
    {
      "cell_type": "code",
      "source": [
        "for number in range(1, 21):\n",
        "    if number % 2 == 0:\n",
        "      print(number)\n"
      ],
      "metadata": {
        "colab": {
          "base_uri": "https://localhost:8080/"
        },
        "id": "a5v843tPBWNb",
        "outputId": "f442e00b-c2de-4c2a-9352-c090718a0471"
      },
      "execution_count": null,
      "outputs": [
        {
          "output_type": "stream",
          "name": "stdout",
          "text": [
            "2\n",
            "4\n",
            "6\n",
            "8\n",
            "10\n",
            "12\n",
            "14\n",
            "16\n",
            "18\n",
            "20\n"
          ]
        }
      ]
    },
    {
      "cell_type": "code",
      "source": [
        "number = 10\n",
        "while number >= 1:\n",
        "    print(number)\n",
        "    number -= 1\n"
      ],
      "metadata": {
        "colab": {
          "base_uri": "https://localhost:8080/"
        },
        "id": "aRfUWJQdBtng",
        "outputId": "9cebd3d0-bc15-448c-b2f7-e99ae5297a19"
      },
      "execution_count": null,
      "outputs": [
        {
          "output_type": "stream",
          "name": "stdout",
          "text": [
            "10\n",
            "9\n",
            "8\n",
            "7\n",
            "6\n",
            "5\n",
            "4\n",
            "3\n",
            "2\n",
            "1\n"
          ]
        }
      ]
    },
    {
      "cell_type": "code",
      "source": [
        "num = int(input(\"Enter a number: \"))\n",
        "\n",
        "total = 0\n",
        "for i in range(1, num + 1):\n",
        "    total += i\n",
        "\n",
        "print(\"The sum of \", num, \"is:\", total)\n"
      ],
      "metadata": {
        "id": "NieQ2dlxB9Rh"
      },
      "execution_count": null,
      "outputs": []
    },
    {
      "cell_type": "markdown",
      "source": [
        "# input"
      ],
      "metadata": {
        "id": "E2SkQRunIRWX"
      }
    },
    {
      "cell_type": "code",
      "source": [
        "name = input(\"Enter your name: \")\n",
        "age = int(input(\"Enter your age: \"))\n",
        "\n",
        "\n",
        "print(f\"Hello, {name}! You are {age} years old.\")\n"
      ],
      "metadata": {
        "colab": {
          "base_uri": "https://localhost:8080/"
        },
        "id": "1jJp6YeCIT8Q",
        "outputId": "cabb1076-c0b1-443b-cae3-9bf24271fad2"
      },
      "execution_count": null,
      "outputs": [
        {
          "output_type": "stream",
          "name": "stdout",
          "text": [
            "Enter your name: nour\n",
            "Enter your age: 19\n",
            "Hello, nour! You are 19 years old.\n"
          ]
        }
      ]
    },
    {
      "cell_type": "code",
      "source": [
        "color = input(\"What is your favorite color? \")\n",
        "\n",
        "if color == 'blue':\n",
        "    print(\"You have great taste!\")\n",
        "else:\n",
        "    print(\"That's a nice color too!\")\n"
      ],
      "metadata": {
        "colab": {
          "base_uri": "https://localhost:8080/"
        },
        "id": "rnx_9TEhIgMV",
        "outputId": "33bd82b1-5bfb-434c-992f-ef5ee1534c7b"
      },
      "execution_count": null,
      "outputs": [
        {
          "output_type": "stream",
          "name": "stdout",
          "text": [
            "What is your favorite color? blue\n",
            "You have great taste!\n"
          ]
        }
      ]
    },
    {
      "cell_type": "markdown",
      "source": [
        "# bonus"
      ],
      "metadata": {
        "id": "fFr7W49oNJ0J"
      }
    },
    {
      "cell_type": "code",
      "source": [
        "numbers = []\n",
        "for i in range(5):\n",
        "    number = int(input(f\"Enter number {i+1}: \"))\n",
        "    numbers.append(number)\n",
        "\n",
        "average = sum(numbers) / len(numbers)\n",
        "print(f\"The average of the numbers is: {average}\")\n",
        "\n",
        "largest = max(numbers)\n",
        "smallest = min(numbers)\n",
        "print(f\"The largest number is: {largest}\")\n",
        "print(f\"The smallest number is: {smallest}\")\n"
      ],
      "metadata": {
        "colab": {
          "base_uri": "https://localhost:8080/"
        },
        "id": "aNmGS6PsNOLS",
        "outputId": "e3d7b0bf-1075-46f2-bf87-aeb1f81e7548"
      },
      "execution_count": null,
      "outputs": [
        {
          "output_type": "stream",
          "name": "stdout",
          "text": [
            "Enter number 1: 8\n",
            "Enter number 2: 8\n",
            "Enter number 3: 3\n",
            "Enter number 4: 8\n",
            "Enter number 5: 2\n",
            "The average of the numbers is: 5.8\n",
            "The largest number is: 8\n",
            "The smallest number is: 2\n"
          ]
        }
      ]
    }
  ]
}