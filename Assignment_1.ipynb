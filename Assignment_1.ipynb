{
  "nbformat": 4,
  "nbformat_minor": 0,
  "metadata": {
    "colab": {
      "provenance": []
    },
    "kernelspec": {
      "name": "python3",
      "display_name": "Python 3"
    },
    "language_info": {
      "name": "python"
    }
  },
  "cells": [
    {
      "cell_type": "markdown",
      "source": [
        "# Section 1: Printing Messages"
      ],
      "metadata": {
        "id": "Fyo81jx2YEZo"
      }
    },
    {
      "cell_type": "code",
      "execution_count": null,
      "metadata": {
        "colab": {
          "base_uri": "https://localhost:8080/"
        },
        "id": "t8zRFC36XPrj",
        "outputId": "836a99ab-9640-4e1d-c262-9d8e96bbe4a6"
      },
      "outputs": [
        {
          "output_type": "stream",
          "name": "stdout",
          "text": [
            "Hello, Python learners! Today we start our coding journey.\n",
            "Hello, my name is Noor.\n",
            "My favorite programming language is Python.\n",
            "Excited to learn and code!\n"
          ]
        }
      ],
      "source": [
        "# Part 1\n",
        "print(\"Hello, Python learners! Today we start our coding journey.\")\n",
        "\n",
        "# Challenge\n",
        "print(\"\"\"Hello, my name is Noor.\n",
        "My favorite programming language is Python.\n",
        "Excited to learn and code!\"\"\")\n"
      ]
    },
    {
      "cell_type": "markdown",
      "source": [
        "# Section 2: Variables and Data Types"
      ],
      "metadata": {
        "id": "UWmmDbslYMEm"
      }
    },
    {
      "cell_type": "code",
      "source": [
        "# Part 1\n",
        "age = 19\n",
        "print(f\"I am {age} years old.\")\n",
        "\n",
        "# Challenge\n",
        "my_integer = 42\n",
        "my_float = 3.14\n",
        "my_string = \"Python\"\n",
        "print(f\"Integer: {my_integer}, Float: {my_float}, String: '{my_string}'\")\n"
      ],
      "metadata": {
        "colab": {
          "base_uri": "https://localhost:8080/"
        },
        "id": "O5GZuNVcXdW0",
        "outputId": "68e55ad4-e568-4666-c70f-30f6796498f1"
      },
      "execution_count": null,
      "outputs": [
        {
          "output_type": "stream",
          "name": "stdout",
          "text": [
            "I am 19 years old.\n",
            "Integer: 42, Float: 3.14, String: 'Python'\n"
          ]
        }
      ]
    },
    {
      "cell_type": "markdown",
      "source": [
        "# Section 3: Working with Strings\n"
      ],
      "metadata": {
        "id": "QlyOP0dLYSqI"
      }
    },
    {
      "cell_type": "code",
      "source": [
        "# Part 1\n",
        "text = \"Python is amazing\"\n",
        "print(text[10:])\n",
        "\n",
        "# Challenge\n",
        "first_name = \"Noor\"\n",
        "last_name = \"Maghraby\"\n",
        "full_name = first_name + \" \" + last_name\n",
        "print(full_name.upper())\n"
      ],
      "metadata": {
        "colab": {
          "base_uri": "https://localhost:8080/"
        },
        "id": "xnCV3RsdXefQ",
        "outputId": "65dec24f-3af8-454e-fc51-e8104600edac"
      },
      "execution_count": null,
      "outputs": [
        {
          "output_type": "stream",
          "name": "stdout",
          "text": [
            "amazing\n",
            "NOOR MAGHRABY\n"
          ]
        }
      ]
    },
    {
      "cell_type": "markdown",
      "source": [
        "# Section 4: Basic Operations\n"
      ],
      "metadata": {
        "id": "ciAXkzH7YYC2"
      }
    },
    {
      "cell_type": "code",
      "source": [
        "# Part 1\n",
        "width = 5\n",
        "height = 10\n",
        "area = width * height\n",
        "print(f\"The area of the rectangle is {area}\")\n",
        "\n",
        "# Challenge\n",
        "a = 20\n",
        "b = 7\n",
        "print(f\"Addition: {a + b}\")\n",
        "print(f\"Subtraction: {a - b}\")\n",
        "print(f\"Multiplication: {a * b}\")\n",
        "print(f\"Division: {a / b}\")\n",
        "print(f\"Modulo: {a % b}\")\n"
      ],
      "metadata": {
        "colab": {
          "base_uri": "https://localhost:8080/"
        },
        "id": "hVsdF_TuXgu7",
        "outputId": "8b365326-c4f4-44a1-8f01-579343c5f2c6"
      },
      "execution_count": null,
      "outputs": [
        {
          "output_type": "stream",
          "name": "stdout",
          "text": [
            "The area of the rectangle is 50\n",
            "Addition: 27\n",
            "Subtraction: 13\n",
            "Multiplication: 140\n",
            "Division: 2.857142857142857\n",
            "Modulo: 6\n"
          ]
        }
      ]
    },
    {
      "cell_type": "markdown",
      "source": [
        "# Section 5: Lists and Tuples"
      ],
      "metadata": {
        "id": "MFIM0Z_hYcMa"
      }
    },
    {
      "cell_type": "code",
      "source": [
        "# Part 1\n",
        "favorite_foods = [\"Pizza\", \"Burger\", \"Sushi\", \"Pasta\", \"Ice Cream\"]\n",
        "print(favorite_foods)\n",
        "print(favorite_foods[2])\n",
        "\n",
        "# Challenge\n",
        "favorite_foods_tuple = tuple(favorite_foods)\n",
        "try:\n",
        "    favorite_foods_tuple[0] = \"Tacos\"  # This will raise an error\n",
        "except TypeError as e:\n",
        "    print(\"Error:\", e)\n"
      ],
      "metadata": {
        "colab": {
          "base_uri": "https://localhost:8080/"
        },
        "id": "lvV7ZrRiXhJI",
        "outputId": "ba795a33-9161-42d8-bb04-859d7056b055"
      },
      "execution_count": null,
      "outputs": [
        {
          "output_type": "stream",
          "name": "stdout",
          "text": [
            "['Pizza', 'Burger', 'Sushi', 'Pasta', 'Ice Cream']\n",
            "Sushi\n",
            "Error: 'tuple' object does not support item assignment\n"
          ]
        }
      ]
    },
    {
      "cell_type": "markdown",
      "source": [
        "# Section 6: String Manipulation and Slicing"
      ],
      "metadata": {
        "id": "O04dV0bLYhj8"
      }
    },
    {
      "cell_type": "code",
      "source": [
        "# Part 1\n",
        "sentence = \"Learning Python is fun!\"\n",
        "print(sentence[9:15])\n",
        "\n",
        "# Challenge\n",
        "new_sentence = sentence.replace(\"fun\", \"awesome\")\n",
        "print(new_sentence)\n"
      ],
      "metadata": {
        "colab": {
          "base_uri": "https://localhost:8080/"
        },
        "id": "Y0ESa_lbXhcz",
        "outputId": "66ef0b0e-7fe3-4129-f900-6deece5b455a"
      },
      "execution_count": null,
      "outputs": [
        {
          "output_type": "stream",
          "name": "stdout",
          "text": [
            "Python\n",
            "Learning Python is awesome!\n"
          ]
        }
      ]
    },
    {
      "cell_type": "markdown",
      "source": [
        "# Section 7: Dictionaries"
      ],
      "metadata": {
        "id": "_jfWjTweYkj_"
      }
    },
    {
      "cell_type": "code",
      "source": [
        "# Part 1\n",
        "student = {\n",
        "    \"name\": \"Noor\",\n",
        "    \"age\": 19,\n",
        "    \"grade\": \"A\"\n",
        "}\n",
        "print(student)\n",
        "\n",
        "# Challenge\n",
        "student[\"city\"] = \"Cairo\"\n",
        "print(student)\n"
      ],
      "metadata": {
        "colab": {
          "base_uri": "https://localhost:8080/"
        },
        "id": "KyVYLh8PXh3P",
        "outputId": "f94b5dda-ce3a-493f-f417-bd3aa9e0836e"
      },
      "execution_count": null,
      "outputs": [
        {
          "output_type": "stream",
          "name": "stdout",
          "text": [
            "{'name': 'Noor', 'age': 19, 'grade': 'A'}\n",
            "{'name': 'Noor', 'age': 19, 'grade': 'A', 'city': 'Cairo'}\n"
          ]
        }
      ]
    },
    {
      "cell_type": "markdown",
      "source": [
        "# Section 8: Basic Arithmetic Operations"
      ],
      "metadata": {
        "id": "KT0075ClYnWY"
      }
    },
    {
      "cell_type": "code",
      "source": [
        "# Part 1\n",
        "num1 = float(input(\"Enter first number: \"))\n",
        "num2 = float(input(\"Enter second number: \"))\n",
        "print(f\"Sum: {num1 + num2}\")\n",
        "print(f\"Difference: {num1 - num2}\")\n",
        "print(f\"Product: {num1 * num2}\")\n",
        "print(f\"Division: {num1 / num2}\")\n",
        "\n",
        "# Challenge\n",
        "if num1 % num2 == 0:\n",
        "    print(\"Divisible\")\n",
        "else:\n",
        "    print(\"Not Divisible\")\n"
      ],
      "metadata": {
        "colab": {
          "base_uri": "https://localhost:8080/"
        },
        "id": "TqpREV4xXiLZ",
        "outputId": "5bff795c-b8e5-4ad7-bb28-ec7e106b314c"
      },
      "execution_count": null,
      "outputs": [
        {
          "output_type": "stream",
          "name": "stdout",
          "text": [
            "Enter first number: 3\n",
            "Enter second number: 4\n",
            "Sum: 7.0\n",
            "Difference: -1.0\n",
            "Product: 12.0\n",
            "Division: 0.75\n",
            "Not Divisible\n"
          ]
        }
      ]
    },
    {
      "cell_type": "code",
      "source": [],
      "metadata": {
        "id": "FIpKtx21Xirn"
      },
      "execution_count": null,
      "outputs": []
    }
  ]
}